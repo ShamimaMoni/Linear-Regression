{
  "nbformat": 4,
  "nbformat_minor": 0,
  "metadata": {
    "colab": {
      "name": "Iris Dataset ANN with Pytorch.ipynb",
      "provenance": [],
      "authorship_tag": "ABX9TyN19ZfpdGTe88XaK4bZXzK5",
      "include_colab_link": true
    },
    "kernelspec": {
      "name": "python3",
      "display_name": "Python 3"
    }
  },
  "cells": [
    {
      "cell_type": "markdown",
      "metadata": {
        "id": "view-in-github",
        "colab_type": "text"
      },
      "source": [
        "<a href=\"https://colab.research.google.com/github/ShamimaMoni/Linear-Regression/blob/master/Iris_Dataset_ANN_with_Pytorch.ipynb\" target=\"_parent\"><img src=\"https://colab.research.google.com/assets/colab-badge.svg\" alt=\"Open In Colab\"/></a>"
      ]
    },
    {
      "cell_type": "code",
      "metadata": {
        "id": "OqBsn9zq2VNN"
      },
      "source": [
        "from sklearn.datasets import load_iris\r\n",
        "iris = load_iris()"
      ],
      "execution_count": 1,
      "outputs": []
    },
    {
      "cell_type": "code",
      "metadata": {
        "colab": {
          "base_uri": "https://localhost:8080/"
        },
        "id": "c6JgwNRl2kn7",
        "outputId": "119e7402-1bbc-495d-8b5f-979e316f4e2c"
      },
      "source": [
        "iris.keys()"
      ],
      "execution_count": 4,
      "outputs": [
        {
          "output_type": "execute_result",
          "data": {
            "text/plain": [
              "dict_keys(['data', 'target', 'target_names', 'DESCR', 'feature_names', 'filename'])"
            ]
          },
          "metadata": {
            "tags": []
          },
          "execution_count": 4
        }
      ]
    },
    {
      "cell_type": "code",
      "metadata": {
        "colab": {
          "base_uri": "https://localhost:8080/"
        },
        "id": "i9vIQ_102tI8",
        "outputId": "e16a0f54-faac-4b96-b733-659db658cf07"
      },
      "source": [
        "iris.feature_names"
      ],
      "execution_count": 5,
      "outputs": [
        {
          "output_type": "execute_result",
          "data": {
            "text/plain": [
              "['sepal length (cm)',\n",
              " 'sepal width (cm)',\n",
              " 'petal length (cm)',\n",
              " 'petal width (cm)']"
            ]
          },
          "metadata": {
            "tags": []
          },
          "execution_count": 5
        }
      ]
    },
    {
      "cell_type": "code",
      "metadata": {
        "id": "6OaHNLu62yFT"
      },
      "source": [
        "data = iris.data\r\n",
        "labels = iris.target"
      ],
      "execution_count": 11,
      "outputs": []
    },
    {
      "cell_type": "code",
      "metadata": {
        "id": "XJS73nwQ3BYT"
      },
      "source": [
        "import torch\r\n",
        "import torch.nn as nn \r\n",
        "import torch.nn.functional as F \r\n",
        "from torch.utils.data import TensorDataset, DataLoader \r\n",
        "\r\n",
        "data, labels = torch.FloatTensor(data), torch.LongTensor(labels)"
      ],
      "execution_count": 13,
      "outputs": []
    },
    {
      "cell_type": "code",
      "metadata": {
        "id": "B6tTdHzu3ohZ"
      },
      "source": [
        "from sklearn.model_selection import train_test_split \r\n",
        "\r\n",
        "X_train, X_test, y_train, y_test = train_test_split(data, labels, test_size = 0.2, random_state =33)"
      ],
      "execution_count": 14,
      "outputs": []
    },
    {
      "cell_type": "code",
      "metadata": {
        "id": "-NmQPTTz4R6C"
      },
      "source": [
        "class Model (nn.Module):\r\n",
        "\r\n",
        "  def __init__(self, in_features = 4, h1 = 8, h2 = 9, out_features = 3):\r\n",
        "\r\n",
        "    super().__init__()\r\n",
        "    self.fc1 = nn.Linear(in_features, h1)\r\n",
        "    self.fc2 = nn.Linear(h1,h2)\r\n",
        "    self.out = nn.Linear(h2, out_features)\r\n",
        "\r\n",
        "  def forward(self, x):\r\n",
        "    x = F.relu(self.fc1(x))\r\n",
        "    x = F.relu(self.fc2(x))\r\n",
        "    x = self.out(x)\r\n",
        "    return x"
      ],
      "execution_count": 35,
      "outputs": []
    },
    {
      "cell_type": "code",
      "metadata": {
        "colab": {
          "base_uri": "https://localhost:8080/"
        },
        "id": "dPYPz_m15EML",
        "outputId": "9f808fb0-9768-450d-dacc-c98ff5a1d24c"
      },
      "source": [
        "torch.manual_seed(32)\r\n",
        "model = Model()\r\n",
        "criterion = nn.CrossEntropyLoss()\r\n",
        "optimizer = torch.optim.Adam(model.parameters(), lr = 0.001)\r\n",
        "\r\n",
        "epochs = 100\r\n",
        "losses = []\r\n",
        "\r\n",
        "for i in range(epochs):\r\n",
        "\r\n",
        "  i += 1\r\n",
        "  y_pred = model.forward(X_train)\r\n",
        "  loss = criterion(y_pred, y_train)\r\n",
        "  losses.append(loss)\r\n",
        "\r\n",
        "  if i%10 == 0:\r\n",
        "    print(f' epoch {i} and loss is {loss}')\r\n",
        "\r\n",
        "  optimizer.zero_grad()\r\n",
        "  loss.backward()\r\n",
        "  optimizer.step()"
      ],
      "execution_count": 36,
      "outputs": [
        {
          "output_type": "stream",
          "text": [
            " epoch 10 and loss is 1.119659423828125\n",
            " epoch 20 and loss is 1.0877673625946045\n",
            " epoch 30 and loss is 1.062971591949463\n",
            " epoch 40 and loss is 1.0382453203201294\n",
            " epoch 50 and loss is 1.0125871896743774\n",
            " epoch 60 and loss is 0.9878517985343933\n",
            " epoch 70 and loss is 0.9633805751800537\n",
            " epoch 80 and loss is 0.9409177899360657\n",
            " epoch 90 and loss is 0.9186980128288269\n",
            " epoch 100 and loss is 0.8958861827850342\n"
          ],
          "name": "stdout"
        }
      ]
    },
    {
      "cell_type": "code",
      "metadata": {
        "colab": {
          "base_uri": "https://localhost:8080/"
        },
        "id": "PdXLGIf86uWM",
        "outputId": "c585a509-2f8c-4fe4-ee84-e30866df46ed"
      },
      "source": [
        "with torch.no_grad():\r\n",
        "  y_eval = model.forward(X_test)\r\n",
        "  loss = criterion (y_eval, y_test)\r\n",
        "  print(loss)"
      ],
      "execution_count": 37,
      "outputs": [
        {
          "output_type": "stream",
          "text": [
            "tensor(0.9088)\n"
          ],
          "name": "stdout"
        }
      ]
    },
    {
      "cell_type": "code",
      "metadata": {
        "colab": {
          "base_uri": "https://localhost:8080/"
        },
        "id": "fz_tYM0268e7",
        "outputId": "25123ebd-3041-4b39-a694-59d77eeaa0ff"
      },
      "source": [
        "correct = 0\r\n",
        "\r\n",
        "with torch.no_grad():\r\n",
        "\r\n",
        "  for i, data in enumerate(X_test):\r\n",
        "\r\n",
        "    y_val = model.forward(data)\r\n",
        "    print(f'{i+1} {str(y_val)} {y_test[i]}')\r\n",
        "\r\n",
        "    if y_val.argmax().item() == y_test[i]:\r\n",
        "      correct += 1\r\n",
        "  \r\n",
        "  print(f'We have got {correct} corrects!')"
      ],
      "execution_count": 38,
      "outputs": [
        {
          "output_type": "stream",
          "text": [
            "1 tensor([-0.3365,  0.3532,  0.1785]) 1\n",
            "2 tensor([-0.4178,  0.3966,  0.2300]) 1\n",
            "3 tensor([ 0.1749, -0.0851, -0.1458]) 0\n",
            "4 tensor([-0.4853,  0.4222,  0.2529]) 1\n",
            "5 tensor([-0.5408,  0.4508,  0.2791]) 2\n",
            "6 tensor([-0.6408,  0.4593,  0.3078]) 2\n",
            "7 tensor([ 0.1799, -0.0789, -0.1398]) 0\n",
            "8 tensor([ 0.1909, -0.1181, -0.1604]) 0\n",
            "9 tensor([-0.5360,  0.4434,  0.2787]) 2\n",
            "10 tensor([-0.6568,  0.4772,  0.3252]) 2\n",
            "11 tensor([-0.6623,  0.4804,  0.3280]) 2\n",
            "12 tensor([ 0.1859, -0.1004, -0.1616]) 0\n",
            "13 tensor([-0.5785,  0.4375,  0.2830]) 2\n",
            "14 tensor([-0.4238,  0.4015,  0.2273]) 1\n",
            "15 tensor([-0.6320,  0.4582,  0.3064]) 2\n",
            "16 tensor([-0.4045,  0.3918,  0.2200]) 1\n",
            "17 tensor([-0.4694,  0.4019,  0.2351]) 2\n",
            "18 tensor([ 0.1926, -0.1134, -0.1554]) 0\n",
            "19 tensor([-0.4020,  0.3887,  0.2205]) 1\n",
            "20 tensor([-0.6231,  0.4956,  0.3351]) 2\n",
            "21 tensor([ 0.1631, -0.0805, -0.1393]) 0\n",
            "22 tensor([ 0.1729, -0.1040, -0.1385]) 0\n",
            "23 tensor([-0.6485,  0.4703,  0.3153]) 2\n",
            "24 tensor([ 0.1607, -0.0809, -0.1414]) 0\n",
            "25 tensor([-0.5766,  0.4426,  0.2743]) 2\n",
            "26 tensor([-0.5221,  0.4205,  0.2559]) 2\n",
            "27 tensor([-0.3990,  0.3929,  0.2181]) 1\n",
            "28 tensor([-0.3748,  0.3696,  0.1970]) 1\n",
            "29 tensor([-0.5735,  0.4438,  0.2842]) 2\n",
            "30 tensor([-0.4820,  0.4091,  0.2419]) 2\n",
            "We have got 16 corrects!\n"
          ],
          "name": "stdout"
        }
      ]
    },
    {
      "cell_type": "code",
      "metadata": {
        "id": "o_8M8AgX9OIj"
      },
      "source": [
        "torch.save(model.state_dict(), 'my_iris_model.pt')"
      ],
      "execution_count": 39,
      "outputs": []
    }
  ]
}