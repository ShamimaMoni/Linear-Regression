{
  "nbformat": 4,
  "nbformat_minor": 0,
  "metadata": {
    "colab": {
      "name": "Linear Regression Using Pytorch.ipynb",
      "provenance": [],
      "authorship_tag": "ABX9TyOzy4im7f7qdJMaxY++v+xT",
      "include_colab_link": true
    },
    "kernelspec": {
      "name": "python3",
      "display_name": "Python 3"
    }
  },
  "cells": [
    {
      "cell_type": "markdown",
      "metadata": {
        "id": "view-in-github",
        "colab_type": "text"
      },
      "source": [
        "<a href=\"https://colab.research.google.com/github/ShamimaMoni/Linear-Regression/blob/master/Linear_Regression_Using_Pytorch.ipynb\" target=\"_parent\"><img src=\"https://colab.research.google.com/assets/colab-badge.svg\" alt=\"Open In Colab\"/></a>"
      ]
    },
    {
      "cell_type": "code",
      "metadata": {
        "id": "W_m-UG8ZOJDH"
      },
      "source": [
        "from sklearn.datasets import load_boston\r\n",
        "boston = load_boston()"
      ],
      "execution_count": 1,
      "outputs": []
    },
    {
      "cell_type": "code",
      "metadata": {
        "colab": {
          "base_uri": "https://localhost:8080/"
        },
        "id": "Yo0KPxDVQP2l",
        "outputId": "d5bdace6-b07e-448b-f64b-f387220f981c"
      },
      "source": [
        "print(boston.keys())"
      ],
      "execution_count": 2,
      "outputs": [
        {
          "output_type": "stream",
          "text": [
            "dict_keys(['data', 'target', 'feature_names', 'DESCR', 'filename'])\n"
          ],
          "name": "stdout"
        }
      ]
    },
    {
      "cell_type": "code",
      "metadata": {
        "colab": {
          "base_uri": "https://localhost:8080/"
        },
        "id": "n53oKOdEQQWL",
        "outputId": "445fee10-f60d-4f17-eb69-2299db80928f"
      },
      "source": [
        "print(boston.data.shape)"
      ],
      "execution_count": 4,
      "outputs": [
        {
          "output_type": "stream",
          "text": [
            "(506, 13)\n"
          ],
          "name": "stdout"
        }
      ]
    },
    {
      "cell_type": "code",
      "metadata": {
        "colab": {
          "base_uri": "https://localhost:8080/"
        },
        "id": "D5EqjcbuQQcL",
        "outputId": "d7c915b2-f3d3-4204-de51-66fc2cb45547"
      },
      "source": [
        "print(boston.feature_names)"
      ],
      "execution_count": 5,
      "outputs": [
        {
          "output_type": "stream",
          "text": [
            "['CRIM' 'ZN' 'INDUS' 'CHAS' 'NOX' 'RM' 'AGE' 'DIS' 'RAD' 'TAX' 'PTRATIO'\n",
            " 'B' 'LSTAT']\n"
          ],
          "name": "stdout"
        }
      ]
    },
    {
      "cell_type": "code",
      "metadata": {
        "colab": {
          "base_uri": "https://localhost:8080/"
        },
        "id": "KP9WirqMQQh7",
        "outputId": "977faedb-4605-48c8-c0fe-27e6c17bd650"
      },
      "source": [
        "print(boston.DESCR)"
      ],
      "execution_count": 6,
      "outputs": [
        {
          "output_type": "stream",
          "text": [
            ".. _boston_dataset:\n",
            "\n",
            "Boston house prices dataset\n",
            "---------------------------\n",
            "\n",
            "**Data Set Characteristics:**  \n",
            "\n",
            "    :Number of Instances: 506 \n",
            "\n",
            "    :Number of Attributes: 13 numeric/categorical predictive. Median Value (attribute 14) is usually the target.\n",
            "\n",
            "    :Attribute Information (in order):\n",
            "        - CRIM     per capita crime rate by town\n",
            "        - ZN       proportion of residential land zoned for lots over 25,000 sq.ft.\n",
            "        - INDUS    proportion of non-retail business acres per town\n",
            "        - CHAS     Charles River dummy variable (= 1 if tract bounds river; 0 otherwise)\n",
            "        - NOX      nitric oxides concentration (parts per 10 million)\n",
            "        - RM       average number of rooms per dwelling\n",
            "        - AGE      proportion of owner-occupied units built prior to 1940\n",
            "        - DIS      weighted distances to five Boston employment centres\n",
            "        - RAD      index of accessibility to radial highways\n",
            "        - TAX      full-value property-tax rate per $10,000\n",
            "        - PTRATIO  pupil-teacher ratio by town\n",
            "        - B        1000(Bk - 0.63)^2 where Bk is the proportion of blacks by town\n",
            "        - LSTAT    % lower status of the population\n",
            "        - MEDV     Median value of owner-occupied homes in $1000's\n",
            "\n",
            "    :Missing Attribute Values: None\n",
            "\n",
            "    :Creator: Harrison, D. and Rubinfeld, D.L.\n",
            "\n",
            "This is a copy of UCI ML housing dataset.\n",
            "https://archive.ics.uci.edu/ml/machine-learning-databases/housing/\n",
            "\n",
            "\n",
            "This dataset was taken from the StatLib library which is maintained at Carnegie Mellon University.\n",
            "\n",
            "The Boston house-price data of Harrison, D. and Rubinfeld, D.L. 'Hedonic\n",
            "prices and the demand for clean air', J. Environ. Economics & Management,\n",
            "vol.5, 81-102, 1978.   Used in Belsley, Kuh & Welsch, 'Regression diagnostics\n",
            "...', Wiley, 1980.   N.B. Various transformations are used in the table on\n",
            "pages 244-261 of the latter.\n",
            "\n",
            "The Boston house-price data has been used in many machine learning papers that address regression\n",
            "problems.   \n",
            "     \n",
            ".. topic:: References\n",
            "\n",
            "   - Belsley, Kuh & Welsch, 'Regression diagnostics: Identifying Influential Data and Sources of Collinearity', Wiley, 1980. 244-261.\n",
            "   - Quinlan,R. (1993). Combining Instance-Based and Model-Based Learning. In Proceedings on the Tenth International Conference of Machine Learning, 236-243, University of Massachusetts, Amherst. Morgan Kaufmann.\n",
            "\n"
          ],
          "name": "stdout"
        }
      ]
    },
    {
      "cell_type": "code",
      "metadata": {
        "colab": {
          "base_uri": "https://localhost:8080/",
          "height": 196
        },
        "id": "qZdhs06IQtME",
        "outputId": "b24cf852-455a-42dc-da9d-fe0db63101cb"
      },
      "source": [
        "import pandas as pd\r\n",
        "data = pd.DataFrame(boston.data)\r\n",
        "data.columns = boston.feature_names\r\n",
        "data.head()"
      ],
      "execution_count": 7,
      "outputs": [
        {
          "output_type": "execute_result",
          "data": {
            "text/html": [
              "<div>\n",
              "<style scoped>\n",
              "    .dataframe tbody tr th:only-of-type {\n",
              "        vertical-align: middle;\n",
              "    }\n",
              "\n",
              "    .dataframe tbody tr th {\n",
              "        vertical-align: top;\n",
              "    }\n",
              "\n",
              "    .dataframe thead th {\n",
              "        text-align: right;\n",
              "    }\n",
              "</style>\n",
              "<table border=\"1\" class=\"dataframe\">\n",
              "  <thead>\n",
              "    <tr style=\"text-align: right;\">\n",
              "      <th></th>\n",
              "      <th>CRIM</th>\n",
              "      <th>ZN</th>\n",
              "      <th>INDUS</th>\n",
              "      <th>CHAS</th>\n",
              "      <th>NOX</th>\n",
              "      <th>RM</th>\n",
              "      <th>AGE</th>\n",
              "      <th>DIS</th>\n",
              "      <th>RAD</th>\n",
              "      <th>TAX</th>\n",
              "      <th>PTRATIO</th>\n",
              "      <th>B</th>\n",
              "      <th>LSTAT</th>\n",
              "    </tr>\n",
              "  </thead>\n",
              "  <tbody>\n",
              "    <tr>\n",
              "      <th>0</th>\n",
              "      <td>0.00632</td>\n",
              "      <td>18.0</td>\n",
              "      <td>2.31</td>\n",
              "      <td>0.0</td>\n",
              "      <td>0.538</td>\n",
              "      <td>6.575</td>\n",
              "      <td>65.2</td>\n",
              "      <td>4.0900</td>\n",
              "      <td>1.0</td>\n",
              "      <td>296.0</td>\n",
              "      <td>15.3</td>\n",
              "      <td>396.90</td>\n",
              "      <td>4.98</td>\n",
              "    </tr>\n",
              "    <tr>\n",
              "      <th>1</th>\n",
              "      <td>0.02731</td>\n",
              "      <td>0.0</td>\n",
              "      <td>7.07</td>\n",
              "      <td>0.0</td>\n",
              "      <td>0.469</td>\n",
              "      <td>6.421</td>\n",
              "      <td>78.9</td>\n",
              "      <td>4.9671</td>\n",
              "      <td>2.0</td>\n",
              "      <td>242.0</td>\n",
              "      <td>17.8</td>\n",
              "      <td>396.90</td>\n",
              "      <td>9.14</td>\n",
              "    </tr>\n",
              "    <tr>\n",
              "      <th>2</th>\n",
              "      <td>0.02729</td>\n",
              "      <td>0.0</td>\n",
              "      <td>7.07</td>\n",
              "      <td>0.0</td>\n",
              "      <td>0.469</td>\n",
              "      <td>7.185</td>\n",
              "      <td>61.1</td>\n",
              "      <td>4.9671</td>\n",
              "      <td>2.0</td>\n",
              "      <td>242.0</td>\n",
              "      <td>17.8</td>\n",
              "      <td>392.83</td>\n",
              "      <td>4.03</td>\n",
              "    </tr>\n",
              "    <tr>\n",
              "      <th>3</th>\n",
              "      <td>0.03237</td>\n",
              "      <td>0.0</td>\n",
              "      <td>2.18</td>\n",
              "      <td>0.0</td>\n",
              "      <td>0.458</td>\n",
              "      <td>6.998</td>\n",
              "      <td>45.8</td>\n",
              "      <td>6.0622</td>\n",
              "      <td>3.0</td>\n",
              "      <td>222.0</td>\n",
              "      <td>18.7</td>\n",
              "      <td>394.63</td>\n",
              "      <td>2.94</td>\n",
              "    </tr>\n",
              "    <tr>\n",
              "      <th>4</th>\n",
              "      <td>0.06905</td>\n",
              "      <td>0.0</td>\n",
              "      <td>2.18</td>\n",
              "      <td>0.0</td>\n",
              "      <td>0.458</td>\n",
              "      <td>7.147</td>\n",
              "      <td>54.2</td>\n",
              "      <td>6.0622</td>\n",
              "      <td>3.0</td>\n",
              "      <td>222.0</td>\n",
              "      <td>18.7</td>\n",
              "      <td>396.90</td>\n",
              "      <td>5.33</td>\n",
              "    </tr>\n",
              "  </tbody>\n",
              "</table>\n",
              "</div>"
            ],
            "text/plain": [
              "      CRIM    ZN  INDUS  CHAS    NOX  ...  RAD    TAX  PTRATIO       B  LSTAT\n",
              "0  0.00632  18.0   2.31   0.0  0.538  ...  1.0  296.0     15.3  396.90   4.98\n",
              "1  0.02731   0.0   7.07   0.0  0.469  ...  2.0  242.0     17.8  396.90   9.14\n",
              "2  0.02729   0.0   7.07   0.0  0.469  ...  2.0  242.0     17.8  392.83   4.03\n",
              "3  0.03237   0.0   2.18   0.0  0.458  ...  3.0  222.0     18.7  394.63   2.94\n",
              "4  0.06905   0.0   2.18   0.0  0.458  ...  3.0  222.0     18.7  396.90   5.33\n",
              "\n",
              "[5 rows x 13 columns]"
            ]
          },
          "metadata": {
            "tags": []
          },
          "execution_count": 7
        }
      ]
    },
    {
      "cell_type": "code",
      "metadata": {
        "colab": {
          "base_uri": "https://localhost:8080/",
          "height": 196
        },
        "id": "xd_72JKRQ9rr",
        "outputId": "0f312c51-e17f-4691-f667-628026b79587"
      },
      "source": [
        "y = pd.DataFrame(boston.target)\r\n",
        "y.head()"
      ],
      "execution_count": 34,
      "outputs": [
        {
          "output_type": "execute_result",
          "data": {
            "text/html": [
              "<div>\n",
              "<style scoped>\n",
              "    .dataframe tbody tr th:only-of-type {\n",
              "        vertical-align: middle;\n",
              "    }\n",
              "\n",
              "    .dataframe tbody tr th {\n",
              "        vertical-align: top;\n",
              "    }\n",
              "\n",
              "    .dataframe thead th {\n",
              "        text-align: right;\n",
              "    }\n",
              "</style>\n",
              "<table border=\"1\" class=\"dataframe\">\n",
              "  <thead>\n",
              "    <tr style=\"text-align: right;\">\n",
              "      <th></th>\n",
              "      <th>0</th>\n",
              "    </tr>\n",
              "  </thead>\n",
              "  <tbody>\n",
              "    <tr>\n",
              "      <th>0</th>\n",
              "      <td>24.0</td>\n",
              "    </tr>\n",
              "    <tr>\n",
              "      <th>1</th>\n",
              "      <td>21.6</td>\n",
              "    </tr>\n",
              "    <tr>\n",
              "      <th>2</th>\n",
              "      <td>34.7</td>\n",
              "    </tr>\n",
              "    <tr>\n",
              "      <th>3</th>\n",
              "      <td>33.4</td>\n",
              "    </tr>\n",
              "    <tr>\n",
              "      <th>4</th>\n",
              "      <td>36.2</td>\n",
              "    </tr>\n",
              "  </tbody>\n",
              "</table>\n",
              "</div>"
            ],
            "text/plain": [
              "      0\n",
              "0  24.0\n",
              "1  21.6\n",
              "2  34.7\n",
              "3  33.4\n",
              "4  36.2"
            ]
          },
          "metadata": {
            "tags": []
          },
          "execution_count": 34
        }
      ]
    },
    {
      "cell_type": "code",
      "metadata": {
        "colab": {
          "base_uri": "https://localhost:8080/",
          "height": 296
        },
        "id": "E2eaDl7hRxKO",
        "outputId": "84a7ead9-e68f-40c0-b9ce-3b699a81489e"
      },
      "source": [
        "import matplotlib.pyplot as plt\r\n",
        "plt.scatter(data['RM'],y, color = 'r')\r\n",
        "plt.xlabel('Average Number of Rooms (RM)')\r\n",
        "plt.ylabel('House Price')"
      ],
      "execution_count": 14,
      "outputs": [
        {
          "output_type": "execute_result",
          "data": {
            "text/plain": [
              "Text(0, 0.5, 'House Price')"
            ]
          },
          "metadata": {
            "tags": []
          },
          "execution_count": 14
        },
        {
          "output_type": "display_data",
          "data": {
            "image/png": "[encoded data removed]",
            "text/plain": [
              "<Figure size 432x288 with 1 Axes>"
            ]
          },
          "metadata": {
            "tags": [],
            "needs_background": "light"
          }
        }
      ]
    },
    {
      "cell_type": "code",
      "metadata": {
        "id": "NwmTSFfrSNkL"
      },
      "source": [
        "import torch\r\n",
        "\r\n",
        "X,y = torch.tensor(data['RM']).reshape(-1,1), torch.tensor(y.values).reshape(-1,1)"
      ],
      "execution_count": 36,
      "outputs": []
    },
    {
      "cell_type": "code",
      "metadata": {
        "id": "fzLjOGCqSfaM"
      },
      "source": [
        "from sklearn.model_selection import train_test_split\r\n",
        "\r\n",
        "train_X, test_X, train_y, test_y = train_test_split(X, y, test_size=0.33, random_state=42)\r\n",
        "\r\n",
        "train_X, test_X = train_X.type(torch.float), test_X.type(torch.float)\r\n",
        "train_y, test_y = train_y.type(torch.float), test_y.type(torch.float)"
      ],
      "execution_count": 41,
      "outputs": []
    },
    {
      "cell_type": "code",
      "metadata": {
        "id": "knMjBfcIYr6k"
      },
      "source": [
        "import torch.nn as nn\r\n",
        "\r\n",
        "class Model (nn.Module):\r\n",
        "\r\n",
        "  def __init__(self, in_features, out_features):\r\n",
        "\r\n",
        "    super().__init__()\r\n",
        "    self.linear = nn.Linear(in_features, out_features)\r\n",
        "\r\n",
        "  def forward(self,X):\r\n",
        "    y_pred = self.linear(X)\r\n",
        "    return y_pred"
      ],
      "execution_count": 28,
      "outputs": []
    },
    {
      "cell_type": "code",
      "metadata": {
        "id": "mkIUYCzyZcmN"
      },
      "source": [
        "input_dim = 1\r\n",
        "output_dim = 1\r\n",
        "epochs = 100\r\n",
        "losses = []\r\n",
        "\r\n",
        "model = Model(input_dim, output_dim) \r\n",
        "\r\n",
        "criterion = nn.MSELoss()\r\n",
        "optimizer = torch.optim.SGD (model.parameters(), lr = 0.001)"
      ],
      "execution_count": 43,
      "outputs": []
    },
    {
      "cell_type": "code",
      "metadata": {
        "colab": {
          "base_uri": "https://localhost:8080/"
        },
        "id": "TnPi5HOzaAb6",
        "outputId": "a7db5686-a0fd-4621-dda2-c62f33ffb778"
      },
      "source": [
        "for i in range(epochs):\r\n",
        "\r\n",
        "  i += 1\r\n",
        "  y_pred = model.forward(train_X)\r\n",
        "  loss = criterion(y_pred, train_y)\r\n",
        "\r\n",
        "  losses.append(loss)\r\n",
        "  print(f\"epoch {i} loss: {loss.item()}\")\r\n",
        "\r\n",
        "  optimizer.zero_grad()\r\n",
        "\r\n",
        "  loss.backward()\r\n",
        "  optimizer.step()"
      ],
      "execution_count": 44,
      "outputs": [
        {
          "output_type": "stream",
          "text": [
            "epoch 1 loss: 465.10321044921875\n",
            "epoch 2 loss: 400.8846740722656\n",
            "epoch 3 loss: 346.8934020996094\n",
            "epoch 4 loss: 301.5006408691406\n",
            "epoch 5 loss: 263.33697509765625\n",
            "epoch 6 loss: 231.2510528564453\n",
            "epoch 7 loss: 204.27505493164062\n",
            "epoch 8 loss: 181.59507751464844\n",
            "epoch 9 loss: 162.52699279785156\n",
            "epoch 10 loss: 146.49557495117188\n",
            "epoch 11 loss: 133.01715087890625\n",
            "epoch 12 loss: 121.68513488769531\n",
            "epoch 13 loss: 112.15774536132812\n",
            "epoch 14 loss: 104.14759826660156\n",
            "epoch 15 loss: 97.41297912597656\n",
            "epoch 16 loss: 91.75078582763672\n",
            "epoch 17 loss: 86.99024200439453\n",
            "epoch 18 loss: 82.98770904541016\n",
            "epoch 19 loss: 79.62251281738281\n",
            "epoch 20 loss: 76.79310607910156\n",
            "epoch 21 loss: 74.4141845703125\n",
            "epoch 22 loss: 72.41400909423828\n",
            "epoch 23 loss: 70.73224639892578\n",
            "epoch 24 loss: 69.31819152832031\n",
            "epoch 25 loss: 68.12921905517578\n",
            "epoch 26 loss: 67.12946319580078\n",
            "epoch 27 loss: 66.288818359375\n",
            "epoch 28 loss: 65.58192443847656\n",
            "epoch 29 loss: 64.98747253417969\n",
            "epoch 30 loss: 64.4875717163086\n",
            "epoch 31 loss: 64.0671615600586\n",
            "epoch 32 loss: 63.713565826416016\n",
            "epoch 33 loss: 63.41617202758789\n",
            "epoch 34 loss: 63.165992736816406\n",
            "epoch 35 loss: 62.95555114746094\n",
            "epoch 36 loss: 62.77849197387695\n",
            "epoch 37 loss: 62.62950134277344\n",
            "epoch 38 loss: 62.50410079956055\n",
            "epoch 39 loss: 62.3985595703125\n",
            "epoch 40 loss: 62.309688568115234\n",
            "epoch 41 loss: 62.23484802246094\n",
            "epoch 42 loss: 62.17179870605469\n",
            "epoch 43 loss: 62.118675231933594\n",
            "epoch 44 loss: 62.07387161254883\n",
            "epoch 45 loss: 62.03607940673828\n",
            "epoch 46 loss: 62.00417709350586\n",
            "epoch 47 loss: 61.977230072021484\n",
            "epoch 48 loss: 61.95444869995117\n",
            "epoch 49 loss: 61.93516540527344\n",
            "epoch 50 loss: 61.9188346862793\n",
            "epoch 51 loss: 61.904964447021484\n",
            "epoch 52 loss: 61.893184661865234\n",
            "epoch 53 loss: 61.88315963745117\n",
            "epoch 54 loss: 61.87459182739258\n",
            "epoch 55 loss: 61.86726760864258\n",
            "epoch 56 loss: 61.86097717285156\n",
            "epoch 57 loss: 61.855567932128906\n",
            "epoch 58 loss: 61.850887298583984\n",
            "epoch 59 loss: 61.846832275390625\n",
            "epoch 60 loss: 61.84329605102539\n",
            "epoch 61 loss: 61.84019088745117\n",
            "epoch 62 loss: 61.83745193481445\n",
            "epoch 63 loss: 61.835025787353516\n",
            "epoch 64 loss: 61.832855224609375\n",
            "epoch 65 loss: 61.830902099609375\n",
            "epoch 66 loss: 61.829139709472656\n",
            "epoch 67 loss: 61.82752990722656\n",
            "epoch 68 loss: 61.8260498046875\n",
            "epoch 69 loss: 61.82467269897461\n",
            "epoch 70 loss: 61.823394775390625\n",
            "epoch 71 loss: 61.82218933105469\n",
            "epoch 72 loss: 61.821048736572266\n",
            "epoch 73 loss: 61.81996536254883\n",
            "epoch 74 loss: 61.81892395019531\n",
            "epoch 75 loss: 61.817928314208984\n",
            "epoch 76 loss: 61.816959381103516\n",
            "epoch 77 loss: 61.81601333618164\n",
            "epoch 78 loss: 61.81509780883789\n",
            "epoch 79 loss: 61.81420135498047\n",
            "epoch 80 loss: 61.813316345214844\n",
            "epoch 81 loss: 61.81245422363281\n",
            "epoch 82 loss: 61.811588287353516\n",
            "epoch 83 loss: 61.81074142456055\n",
            "epoch 84 loss: 61.80990219116211\n",
            "epoch 85 loss: 61.8090705871582\n",
            "epoch 86 loss: 61.80824661254883\n",
            "epoch 87 loss: 61.80741882324219\n",
            "epoch 88 loss: 61.80659866333008\n",
            "epoch 89 loss: 61.80579376220703\n",
            "epoch 90 loss: 61.80498123168945\n",
            "epoch 91 loss: 61.804168701171875\n",
            "epoch 92 loss: 61.803367614746094\n",
            "epoch 93 loss: 61.802555084228516\n",
            "epoch 94 loss: 61.80175018310547\n",
            "epoch 95 loss: 61.80095291137695\n",
            "epoch 96 loss: 61.800140380859375\n",
            "epoch 97 loss: 61.799339294433594\n",
            "epoch 98 loss: 61.798545837402344\n",
            "epoch 99 loss: 61.79774475097656\n",
            "epoch 100 loss: 61.79694366455078\n"
          ],
          "name": "stdout"
        }
      ]
    },
    {
      "cell_type": "code",
      "metadata": {
        "colab": {
          "base_uri": "https://localhost:8080/",
          "height": 296
        },
        "id": "NA17vLRJcCzc",
        "outputId": "a95f34c5-9dc3-4271-8db1-239acb89f689"
      },
      "source": [
        "plt.plot(range(epochs), losses)\r\n",
        "plt.ylabel(\"MSE Loss\")\r\n",
        "plt.xlabel(\"Epoch\")"
      ],
      "execution_count": 45,
      "outputs": [
        {
          "output_type": "execute_result",
          "data": {
            "text/plain": [
              "Text(0.5, 0, 'Epoch')"
            ]
          },
          "metadata": {
            "tags": []
          },
          "execution_count": 45
        },
        {
          "output_type": "display_data",
          "data": {
            "image/png": "[encoded data removed]",
            "text/plain": [
              "<Figure size 432x288 with 1 Axes>"
            ]
          },
          "metadata": {
            "tags": [],
            "needs_background": "light"
          }
        }
      ]
    },
    {
      "cell_type": "code",
      "metadata": {
        "colab": {
          "base_uri": "https://localhost:8080/",
          "height": 281
        },
        "id": "oTndzlV-cO7v",
        "outputId": "e85cee9d-14cc-4572-ab89-f540ca197634"
      },
      "source": [
        "current_weight = model.linear.weight.item()\r\n",
        "current_bias = model.linear.bias.item()\r\n",
        "predicted_y = current_weight*test_X + current_bias\r\n",
        "\r\n",
        "plt.scatter(test_X.numpy(),test_y.numpy())\r\n",
        "plt.plot(test_X, predicted_y, color='r')"
      ],
      "execution_count": 46,
      "outputs": [
        {
          "output_type": "execute_result",
          "data": {
            "text/plain": [
              "[<matplotlib.lines.Line2D at 0x7f98fea7dcc0>]"
            ]
          },
          "metadata": {
            "tags": []
          },
          "execution_count": 46
        },
        {
          "output_type": "display_data",
          "data": {
            "image/png": "[encoded data removed]",
            "text/plain": [
              "<Figure size 432x288 with 1 Axes>"
            ]
          },
          "metadata": {
            "tags": [],
            "needs_background": "light"
          }
        }
      ]
    }
  ]
}